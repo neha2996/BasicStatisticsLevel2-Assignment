{
 "cells": [
  {
   "cell_type": "code",
   "execution_count": 1,
   "id": "17607f5e",
   "metadata": {
    "ExecuteTime": {
     "end_time": "2021-07-27T15:20:08.555823Z",
     "start_time": "2021-07-27T15:20:08.198795Z"
    }
   },
   "outputs": [],
   "source": [
    "import numpy as np\n",
    "from scipy import stats"
   ]
  },
  {
   "cell_type": "code",
   "execution_count": 8,
   "id": "24efdc4c",
   "metadata": {
    "ExecuteTime": {
     "end_time": "2021-07-27T15:42:51.046357Z",
     "start_time": "2021-07-27T15:42:51.038371Z"
    }
   },
   "outputs": [
    {
     "name": "stdout",
     "output_type": "stream",
     "text": [
      "Mean profit is Rs 540 million\n"
     ]
    }
   ],
   "source": [
    "#Mean profits for both the division\n",
    "mean=5+7\n",
    "print(\"Mean profit is Rs\", mean*45 ,'million')"
   ]
  },
  {
   "cell_type": "code",
   "execution_count": 9,
   "id": "819bae88",
   "metadata": {
    "ExecuteTime": {
     "end_time": "2021-07-27T15:43:36.242303Z",
     "start_time": "2021-07-27T15:43:36.226305Z"
    }
   },
   "outputs": [
    {
     "name": "stdout",
     "output_type": "stream",
     "text": [
      "Standard deviation is Rs 225.0 million\n"
     ]
    }
   ],
   "source": [
    "#Standard deviation for both the division\n",
    "std=np.sqrt((9)+(16))\n",
    "print(\"Standard deviation is Rs\",std*45,'million')"
   ]
  },
  {
   "cell_type": "code",
   "execution_count": 10,
   "id": "a22420c9",
   "metadata": {
    "ExecuteTime": {
     "end_time": "2021-07-27T15:53:30.693577Z",
     "start_time": "2021-07-27T15:53:30.677429Z"
    }
   },
   "outputs": [
    {
     "name": "stdout",
     "output_type": "stream",
     "text": [
      "Range is Rs (99.00810347848784, 980.9918965215122) millions\n"
     ]
    }
   ],
   "source": [
    "print(\"Range is Rs\",stats.norm.interval(0.95,540,225),'millions')"
   ]
  },
  {
   "cell_type": "code",
   "execution_count": 17,
   "id": "259f4f95",
   "metadata": {
    "ExecuteTime": {
     "end_time": "2021-07-27T16:01:50.250712Z",
     "start_time": "2021-07-27T16:01:50.242711Z"
    }
   },
   "outputs": [
    {
     "data": {
      "text/plain": [
       "-1.645"
      ]
     },
     "execution_count": 17,
     "metadata": {},
     "output_type": "execute_result"
    }
   ],
   "source": [
    "round(stats.norm.ppf(0.05),3) #0.05*100=5"
   ]
  },
  {
   "cell_type": "code",
   "execution_count": 24,
   "id": "ec7d6bb9",
   "metadata": {
    "ExecuteTime": {
     "end_time": "2021-07-27T16:05:35.465385Z",
     "start_time": "2021-07-27T16:05:35.449373Z"
    }
   },
   "outputs": [
    {
     "name": "stdout",
     "output_type": "stream",
     "text": [
      "5th percentile of profit is Rupees 170.0\n"
     ]
    }
   ],
   "source": [
    "X=540+(-1.645)*(225)\n",
    "print(\"5th percentile of profit is Rupees\",np.round(X))"
   ]
  },
  {
   "cell_type": "code",
   "execution_count": 25,
   "id": "30a195eb",
   "metadata": {
    "ExecuteTime": {
     "end_time": "2021-07-27T16:07:32.175775Z",
     "start_time": "2021-07-27T16:07:32.159734Z"
    }
   },
   "outputs": [
    {
     "data": {
      "text/plain": [
       "0.0477903522728147"
      ]
     },
     "execution_count": 25,
     "metadata": {},
     "output_type": "execute_result"
    }
   ],
   "source": [
    "#Probability of division 1 making a loss P(X<0)\n",
    "stats.norm.cdf(0,5,3)"
   ]
  },
  {
   "cell_type": "code",
   "execution_count": 26,
   "id": "bc4eea9e",
   "metadata": {
    "ExecuteTime": {
     "end_time": "2021-07-27T16:07:52.625379Z",
     "start_time": "2021-07-27T16:07:52.600934Z"
    }
   },
   "outputs": [
    {
     "data": {
      "text/plain": [
       "0.040059156863817086"
      ]
     },
     "execution_count": 26,
     "metadata": {},
     "output_type": "execute_result"
    }
   ],
   "source": [
    "#Probability of division 2 making a loss P(X<0)\n",
    "stats.norm.cdf(0,7,4)"
   ]
  },
  {
   "cell_type": "code",
   "execution_count": null,
   "id": "1b855e53",
   "metadata": {},
   "outputs": [],
   "source": [
    "#Probability of division 1 making a loss in given year is more than division 2"
   ]
  }
 ],
 "metadata": {
  "kernelspec": {
   "display_name": "Python 3",
   "language": "python",
   "name": "python3"
  },
  "language_info": {
   "codemirror_mode": {
    "name": "ipython",
    "version": 3
   },
   "file_extension": ".py",
   "mimetype": "text/x-python",
   "name": "python",
   "nbconvert_exporter": "python",
   "pygments_lexer": "ipython3",
   "version": "3.8.8"
  },
  "varInspector": {
   "cols": {
    "lenName": 16,
    "lenType": 16,
    "lenVar": 40
   },
   "kernels_config": {
    "python": {
     "delete_cmd_postfix": "",
     "delete_cmd_prefix": "del ",
     "library": "var_list.py",
     "varRefreshCmd": "print(var_dic_list())"
    },
    "r": {
     "delete_cmd_postfix": ") ",
     "delete_cmd_prefix": "rm(",
     "library": "var_list.r",
     "varRefreshCmd": "cat(var_dic_list()) "
    }
   },
   "types_to_exclude": [
    "module",
    "function",
    "builtin_function_or_method",
    "instance",
    "_Feature"
   ],
   "window_display": false
  }
 },
 "nbformat": 4,
 "nbformat_minor": 5
}
