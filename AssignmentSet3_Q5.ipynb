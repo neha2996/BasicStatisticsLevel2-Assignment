{
 "cells": [
  {
   "cell_type": "markdown",
   "id": "15d78ff1",
   "metadata": {},
   "source": [
    "5.In January 2005, a company that monitors Internet traffic (WebSideStory) reported that its\n",
    "sampling revealed that the Mozilla Firefox browser launched in 2004 had grabbed a 4.6% share of the market.\n",
    "I.If the sample were based on 2,000 users, could Microsoft conclude that Mozilla has a less than 5% share of the market?\n",
    "II.WebSideStory claims that its sample includes all the daily Internet users. If that’s the case, \n",
    "then can Microsoft conclude that Mozilla has a less than 5% share of the market?\n",
    "\n"
   ]
  },
  {
   "cell_type": "markdown",
   "id": "0c72d899",
   "metadata": {},
   "source": [
    "Null Hypothesis Ho:p>=5% Mozilla has more than or equal to 5% share of the market.\n"
   ]
  },
  {
   "cell_type": "markdown",
   "id": "d21443be",
   "metadata": {},
   "source": [
    "Alternate Hypothesis Ha:p<5% Mozilla has less than 5% share of the market    "
   ]
  },
  {
   "cell_type": "code",
   "execution_count": 2,
   "id": "24f37eac",
   "metadata": {
    "ExecuteTime": {
     "end_time": "2021-08-23T11:42:10.791898Z",
     "start_time": "2021-08-23T11:42:10.783900Z"
    }
   },
   "outputs": [],
   "source": [
    "from scipy import stats\n",
    "import numpy as np"
   ]
  },
  {
   "cell_type": "markdown",
   "id": "fa9e3362",
   "metadata": {},
   "source": [
    "Based on the problem statement,apply one sample porportion test- z test"
   ]
  },
  {
   "cell_type": "markdown",
   "id": "3d010089",
   "metadata": {},
   "source": [
    "Formula to calculate zscore- (p̂-p)/√(p(1-p)/n) ...N(0,1)"
   ]
  },
  {
   "cell_type": "markdown",
   "id": "42d0acb9",
   "metadata": {},
   "source": [
    "Assume 95% confidence interval,alpha=0.05\n",
    "p̂=sample proportion share of the market i.e 4.6% =0.046"
   ]
  },
  {
   "cell_type": "code",
   "execution_count": 3,
   "id": "87503940",
   "metadata": {
    "ExecuteTime": {
     "end_time": "2021-08-23T11:42:13.923530Z",
     "start_time": "2021-08-23T11:42:13.898953Z"
    }
   },
   "outputs": [
    {
     "data": {
      "text/plain": [
       "-0.820782681668124"
      ]
     },
     "execution_count": 3,
     "metadata": {},
     "output_type": "execute_result"
    }
   ],
   "source": [
    "zscore=(0.046-0.05)/(np.sqrt((0.05*(1-0.05))/2000))\n",
    "zscore"
   ]
  },
  {
   "cell_type": "code",
   "execution_count": 6,
   "id": "788dbef1",
   "metadata": {
    "ExecuteTime": {
     "end_time": "2021-08-23T11:49:23.009172Z",
     "start_time": "2021-08-23T11:49:22.993072Z"
    }
   },
   "outputs": [
    {
     "data": {
      "text/plain": [
       "0.20588503245107104"
      ]
     },
     "execution_count": 6,
     "metadata": {},
     "output_type": "execute_result"
    }
   ],
   "source": [
    "pvalue=stats.norm.cdf(zscore)\n",
    "pvalue"
   ]
  },
  {
   "cell_type": "markdown",
   "id": "7fc72992",
   "metadata": {},
   "source": [
    "I.pvalue>0.05,We do not reject the null hpothesis i.e Mozilla has more than or equal to 5% share of the market.\n",
    "Therefore Microsoft cannot conclude that Mozilla has less than 5% share of the market."
   ]
  },
  {
   "cell_type": "markdown",
   "id": "a193854a",
   "metadata": {},
   "source": [
    "II.We are given that WebSideStory claims that its sample includes all the daily Internet users.4.6% is the \n",
    "population percentage.\n",
    "Therefore Microsoft can conclude that Mozilla has less than 5% share of the market."
   ]
  }
 ],
 "metadata": {
  "kernelspec": {
   "display_name": "Python 3",
   "language": "python",
   "name": "python3"
  },
  "language_info": {
   "codemirror_mode": {
    "name": "ipython",
    "version": 3
   },
   "file_extension": ".py",
   "mimetype": "text/x-python",
   "name": "python",
   "nbconvert_exporter": "python",
   "pygments_lexer": "ipython3",
   "version": "3.8.8"
  },
  "varInspector": {
   "cols": {
    "lenName": 16,
    "lenType": 16,
    "lenVar": 40
   },
   "kernels_config": {
    "python": {
     "delete_cmd_postfix": "",
     "delete_cmd_prefix": "del ",
     "library": "var_list.py",
     "varRefreshCmd": "print(var_dic_list())"
    },
    "r": {
     "delete_cmd_postfix": ") ",
     "delete_cmd_prefix": "rm(",
     "library": "var_list.r",
     "varRefreshCmd": "cat(var_dic_list()) "
    }
   },
   "types_to_exclude": [
    "module",
    "function",
    "builtin_function_or_method",
    "instance",
    "_Feature"
   ],
   "window_display": false
  }
 },
 "nbformat": 4,
 "nbformat_minor": 5
}
