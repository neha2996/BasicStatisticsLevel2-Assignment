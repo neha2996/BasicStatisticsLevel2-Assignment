{
 "cells": [
  {
   "cell_type": "code",
   "execution_count": 13,
   "id": "ecc4a457",
   "metadata": {
    "ExecuteTime": {
     "end_time": "2021-07-21T16:15:39.020118Z",
     "start_time": "2021-07-21T16:15:39.004079Z"
    }
   },
   "outputs": [],
   "source": [
    "import pandas as pd \n",
    "import numpy as np\n",
    "import matplotlib.pyplot as plt\n",
    "import seaborn as sns\n",
    "%matplotlib inline"
   ]
  },
  {
   "cell_type": "code",
   "execution_count": 14,
   "id": "4dc26e1e",
   "metadata": {
    "ExecuteTime": {
     "end_time": "2021-07-21T16:15:41.640089Z",
     "start_time": "2021-07-21T16:15:41.624090Z"
    }
   },
   "outputs": [
    {
     "data": {
      "text/plain": [
       "0     24.23\n",
       "1     25.53\n",
       "2     25.41\n",
       "3     24.14\n",
       "4     29.62\n",
       "5     28.25\n",
       "6     25.81\n",
       "7     24.39\n",
       "8     40.26\n",
       "9     32.95\n",
       "10    91.36\n",
       "11    25.99\n",
       "12    39.42\n",
       "13    26.71\n",
       "14    35.00\n",
       "dtype: float64"
      ]
     },
     "execution_count": 14,
     "metadata": {},
     "output_type": "execute_result"
    }
   ],
   "source": [
    "x=pd.Series([24.23,25.53,25.41,24.14,29.62,28.25,25.81,24.39,40.26,32.95,91.36,25.99,39.42,26.71,35.00])\n",
    "x"
   ]
  },
  {
   "cell_type": "code",
   "execution_count": 7,
   "id": "5dfc340a",
   "metadata": {
    "ExecuteTime": {
     "end_time": "2021-07-21T16:12:09.138529Z",
     "start_time": "2021-07-21T16:12:09.130358Z"
    }
   },
   "outputs": [
    {
     "data": {
      "text/plain": [
       "33.27"
      ]
     },
     "execution_count": 7,
     "metadata": {},
     "output_type": "execute_result"
    }
   ],
   "source": [
    "#mean\n",
    "round(x.mean(),2)"
   ]
  },
  {
   "cell_type": "code",
   "execution_count": 8,
   "id": "32ad7160",
   "metadata": {
    "ExecuteTime": {
     "end_time": "2021-07-21T16:13:02.226858Z",
     "start_time": "2021-07-21T16:13:02.202054Z"
    }
   },
   "outputs": [
    {
     "data": {
      "text/plain": [
       "287.15"
      ]
     },
     "execution_count": 8,
     "metadata": {},
     "output_type": "execute_result"
    }
   ],
   "source": [
    "#variance\n",
    "round(x.var(),2)"
   ]
  },
  {
   "cell_type": "code",
   "execution_count": 10,
   "id": "e96eb4bc",
   "metadata": {
    "ExecuteTime": {
     "end_time": "2021-07-21T16:13:30.671462Z",
     "start_time": "2021-07-21T16:13:30.655493Z"
    }
   },
   "outputs": [
    {
     "data": {
      "text/plain": [
       "16.95"
      ]
     },
     "execution_count": 10,
     "metadata": {},
     "output_type": "execute_result"
    }
   ],
   "source": [
    "#standard deviation\n",
    "round(x.std(),2)"
   ]
  },
  {
   "cell_type": "code",
   "execution_count": 29,
   "id": "a474110d",
   "metadata": {
    "ExecuteTime": {
     "end_time": "2021-07-21T16:22:26.590457Z",
     "start_time": "2021-07-21T16:22:26.494046Z"
    },
    "scrolled": true
   },
   "outputs": [
    {
     "data": {
      "text/plain": [
       "{'whiskers': [<matplotlib.lines.Line2D at 0x25f48562340>,\n",
       "  <matplotlib.lines.Line2D at 0x25f485626a0>],\n",
       " 'caps': [<matplotlib.lines.Line2D at 0x25f48562a00>,\n",
       "  <matplotlib.lines.Line2D at 0x25f48562d60>],\n",
       " 'boxes': [<matplotlib.lines.Line2D at 0x25f48556fa0>],\n",
       " 'medians': [<matplotlib.lines.Line2D at 0x25f4856e100>],\n",
       " 'fliers': [<matplotlib.lines.Line2D at 0x25f4856e460>],\n",
       " 'means': []}"
      ]
     },
     "execution_count": 29,
     "metadata": {},
     "output_type": "execute_result"
    },
    {
     "data": {
      "image/png": "[encoded data removed]",
      "text/plain": [
       "<Figure size 504x504 with 1 Axes>"
      ]
     },
     "metadata": {
      "needs_background": "light"
     },
     "output_type": "display_data"
    }
   ],
   "source": [
    "#Plotting data through box plot\n",
    "fig = plt.figure(figsize=(7,7))\n",
    "plt.boxplot(x,vert=True)"
   ]
  },
  {
   "cell_type": "markdown",
   "id": "37f6dec8",
   "metadata": {},
   "source": [
    "There is an outlier:Morgan Stanley 91.36%"
   ]
  }
 ],
 "metadata": {
  "kernelspec": {
   "display_name": "Python 3",
   "language": "python",
   "name": "python3"
  },
  "language_info": {
   "codemirror_mode": {
    "name": "ipython",
    "version": 3
   },
   "file_extension": ".py",
   "mimetype": "text/x-python",
   "name": "python",
   "nbconvert_exporter": "python",
   "pygments_lexer": "ipython3",
   "version": "3.8.8"
  },
  "varInspector": {
   "cols": {
    "lenName": 16,
    "lenType": 16,
    "lenVar": 40
   },
   "kernels_config": {
    "python": {
     "delete_cmd_postfix": "",
     "delete_cmd_prefix": "del ",
     "library": "var_list.py",
     "varRefreshCmd": "print(var_dic_list())"
    },
    "r": {
     "delete_cmd_postfix": ") ",
     "delete_cmd_prefix": "rm(",
     "library": "var_list.r",
     "varRefreshCmd": "cat(var_dic_list()) "
    }
   },
   "types_to_exclude": [
    "module",
    "function",
    "builtin_function_or_method",
    "instance",
    "_Feature"
   ],
   "window_display": false
  }
 },
 "nbformat": 4,
 "nbformat_minor": 5
}
